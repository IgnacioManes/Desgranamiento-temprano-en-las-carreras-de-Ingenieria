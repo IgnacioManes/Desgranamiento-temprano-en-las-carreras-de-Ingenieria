{
 "cells": [
  {
   "cell_type": "code",
   "execution_count": 4,
   "id": "c6e48788-abc5-48c7-8365-2f3e5ecbc8a7",
   "metadata": {},
   "outputs": [],
   "source": [
    "from tpot import TPOTClassifier\n",
    "from sklearn.datasets import load_digits\n",
    "from sklearn.model_selection import train_test_split\n",
    "import pandas as pd\n",
    "data = pd.read_csv('./data_with_anomalies.csv')\n",
    "data.drop([\"Anomaly_Score\"],inplace=True,axis=1)\n",
    "X = data.drop('Anomaly', axis=1)\n",
    "Y = data[['Anomaly']]"
   ]
  },
  {
   "cell_type": "code",
   "execution_count": 5,
   "id": "de6f84cf-1a04-440c-9ce7-fd0596d2a918",
   "metadata": {},
   "outputs": [
    {
     "name": "stderr",
     "output_type": "stream",
     "text": [
      "D:\\home\\Anaconda3\\lib\\site-packages\\xgboost\\compat.py:36: FutureWarning: pandas.Int64Index is deprecated and will be removed from pandas in a future version. Use pandas.Index with the appropriate dtype instead.\n",
      "  from pandas import MultiIndex, Int64Index\n",
      "D:\\home\\Anaconda3\\lib\\site-packages\\sklearn\\utils\\validation.py:72: DataConversionWarning: A column-vector y was passed when a 1d array was expected. Please change the shape of y to (n_samples, ), for example using ravel().\n",
      "  return f(**kwargs)\n"
     ]
    },
    {
     "data": {
      "application/vnd.jupyter.widget-view+json": {
       "model_id": "",
       "version_major": 2,
       "version_minor": 0
      },
      "text/plain": [
       "Optimization Progress:   0%|          | 0/120 [00:00<?, ?pipeline/s]"
      ]
     },
     "metadata": {},
     "output_type": "display_data"
    },
    {
     "name": "stdout",
     "output_type": "stream",
     "text": [
      "\n",
      "Generation 1 - Current best internal CV score: 0.9960927785748446\n",
      "\n",
      "Generation 2 - Current best internal CV score: 0.9960927785748446\n",
      "\n",
      "Generation 3 - Current best internal CV score: 0.9960927785748446\n",
      "\n",
      "Generation 4 - Current best internal CV score: 0.9960927785748446\n",
      "\n",
      "Generation 5 - Current best internal CV score: 0.9980439980870397\n",
      "\n",
      "Best pipeline: RandomForestClassifier(LogisticRegression(MinMaxScaler(input_matrix), C=15.0, dual=False, penalty=l2), bootstrap=True, criterion=entropy, max_features=0.2, min_samples_leaf=8, min_samples_split=4, n_estimators=100)\n",
      "0.9970674486803519\n"
     ]
    },
    {
     "name": "stderr",
     "output_type": "stream",
     "text": [
      "D:\\home\\Anaconda3\\lib\\site-packages\\sklearn\\utils\\validation.py:72: DataConversionWarning: A column-vector y was passed when a 1d array was expected. Please change the shape of y to (n_samples, ), for example using ravel().\n",
      "  return f(**kwargs)\n"
     ]
    }
   ],
   "source": [
    "\n",
    "X_train, X_test, y_train, y_test = train_test_split(X, Y,\n",
    "                                                    train_size=0.75, test_size=0.25)\n",
    "\n",
    "pipeline_optimizer = TPOTClassifier(generations=5, population_size=20, cv=5,\n",
    "                                    random_state=42, verbosity=2)\n",
    "pipeline_optimizer.fit(X_train, y_train)\n",
    "print(pipeline_optimizer.score(X_test, y_test))\n",
    "pipeline_optimizer.export('tpot_exported_pipeline.py')"
   ]
  },
  {
   "cell_type": "code",
   "execution_count": 7,
   "id": "9c5af0da-7d82-4200-b577-7e525631ac1e",
   "metadata": {},
   "outputs": [],
   "source": [
    "import numpy as np\n",
    "import pandas as pd\n",
    "from sklearn.ensemble import RandomForestClassifier\n",
    "from sklearn.linear_model import LogisticRegression\n",
    "from sklearn.model_selection import train_test_split\n",
    "from sklearn.pipeline import make_pipeline, make_union\n",
    "from sklearn.preprocessing import MinMaxScaler\n",
    "from tpot.builtins import StackingEstimator\n",
    "from tpot.export_utils import set_param_recursive\n",
    "\n",
    "# NOTE: Make sure that the outcome column is labeled 'target' in the data file\n",
    "tpot_data = pd.read_csv('./data_with_anomalies.csv', sep=',', dtype=np.float64)\n",
    "features = tpot_data.drop('Anomaly', axis=1)\n",
    "training_features, testing_features, training_target, testing_target = \\\n",
    "            train_test_split(features, tpot_data['Anomaly'], random_state=42)\n",
    "\n",
    "# Average CV score on the training set was: 0.9980439980870397\n",
    "exported_pipeline = make_pipeline(\n",
    "    MinMaxScaler(),\n",
    "    StackingEstimator(estimator=LogisticRegression(C=15.0, dual=False, penalty=\"l2\")),\n",
    "    RandomForestClassifier(bootstrap=True, criterion=\"entropy\", max_features=0.2, min_samples_leaf=8, min_samples_split=4, n_estimators=100)\n",
    ")\n",
    "# Fix random state for all the steps in exported pipeline\n",
    "set_param_recursive(exported_pipeline.steps, 'random_state', 42)\n",
    "\n",
    "exported_pipeline.fit(training_features, training_target)\n",
    "results = exported_pipeline.predict(testing_features)\n"
   ]
  },
  {
   "cell_type": "code",
   "execution_count": 16,
   "id": "b19a6706-c513-4450-8a1e-fe07b2418ba5",
   "metadata": {},
   "outputs": [
    {
     "name": "stdout",
     "output_type": "stream",
     "text": [
      "              precision    recall  f1-score   support\n",
      "\n",
      "         0.0       1.00      1.00      1.00       330\n",
      "         1.0       1.00      1.00      1.00        11\n",
      "\n",
      "    accuracy                           1.00       341\n",
      "   macro avg       1.00      1.00      1.00       341\n",
      "weighted avg       1.00      1.00      1.00       341\n",
      "\n"
     ]
    }
   ],
   "source": [
    " from sklearn.metrics import classification_report\n",
    "print(classification_report(testing_target, results))"
   ]
  },
  {
   "cell_type": "code",
   "execution_count": null,
   "id": "bdf0802c-61bc-4c17-8c69-cb104c4a619c",
   "metadata": {},
   "outputs": [],
   "source": []
  }
 ],
 "metadata": {
  "kernelspec": {
   "display_name": "Python 3 (ipykernel)",
   "language": "python",
   "name": "python3"
  },
  "language_info": {
   "codemirror_mode": {
    "name": "ipython",
    "version": 3
   },
   "file_extension": ".py",
   "mimetype": "text/x-python",
   "name": "python",
   "nbconvert_exporter": "python",
   "pygments_lexer": "ipython3",
   "version": "3.9.7"
  }
 },
 "nbformat": 4,
 "nbformat_minor": 5
}
