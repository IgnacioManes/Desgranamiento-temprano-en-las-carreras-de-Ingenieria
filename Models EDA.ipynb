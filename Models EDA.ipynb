{
 "cells": [
  {
   "cell_type": "markdown",
   "id": "5cc80620-1fdb-410d-a800-b264220b6361",
   "metadata": {},
   "source": [
    "# Models EDA"
   ]
  },
  {
   "cell_type": "code",
   "execution_count": 3,
   "id": "df524e65-f972-4d2e-9791-eb1c9696b1fc",
   "metadata": {},
   "outputs": [],
   "source": [
    "import dtale\n",
    "import pandas as pd"
   ]
  },
  {
   "cell_type": "code",
   "execution_count": 4,
   "id": "cd0a605b-5a3f-48aa-a3f2-98921684bfe4",
   "metadata": {},
   "outputs": [],
   "source": [
    "parseDict ={\n",
    "    \"Cluster 0\":0,\n",
    "    \"Cluster 1\":1,\n",
    "    \"Cluster 2\":2,\n",
    "    \"Cluster 3\":3,\n",
    "}"
   ]
  },
  {
   "cell_type": "code",
   "execution_count": 5,
   "id": "b9cf5275-0498-4229-9578-457e8f5e742c",
   "metadata": {},
   "outputs": [
    {
     "name": "stdout",
     "output_type": "stream",
     "text": [
      "Executing shutdown due to inactivity...\n"
     ]
    },
    {
     "name": "stderr",
     "output_type": "stream",
     "text": [
      "2022-05-26 22:09:35,804 - INFO     - Executing shutdown due to inactivity...\n"
     ]
    },
    {
     "name": "stdout",
     "output_type": "stream",
     "text": [
      "Executing shutdown...\n"
     ]
    },
    {
     "name": "stderr",
     "output_type": "stream",
     "text": [
      "2022-05-26 22:09:52,162 - INFO     - Executing shutdown...\n"
     ]
    }
   ],
   "source": [
    "for model in [\"birch\",\"hclust\",\"kmeans\",\"meanshift\",\"sc\"]:\n",
    "    model = pd.read_csv(model+\".csv\")\n",
    "    model['Cluster'] = model['Cluster'].apply(lambda x: parseDict[x])\n",
    "    d = dtale.show(model)\n",
    "    d.open_browser()"
   ]
  }
 ],
 "metadata": {
  "kernelspec": {
   "display_name": "Python 3 (ipykernel)",
   "language": "python",
   "name": "python3"
  },
  "language_info": {
   "codemirror_mode": {
    "name": "ipython",
    "version": 3
   },
   "file_extension": ".py",
   "mimetype": "text/x-python",
   "name": "python",
   "nbconvert_exporter": "python",
   "pygments_lexer": "ipython3",
   "version": "3.9.7"
  }
 },
 "nbformat": 4,
 "nbformat_minor": 5
}
